{
  "nbformat": 4,
  "nbformat_minor": 0,
  "metadata": {
    "colab": {
      "name": "Convolutional Neural Net.ipynb",
      "provenance": [],
      "authorship_tag": "ABX9TyPLLwc/PxwRhX9rcnuatsHU",
      "include_colab_link": true
    },
    "kernelspec": {
      "name": "python3",
      "display_name": "Python 3"
    },
    "language_info": {
      "name": "python"
    }
  },
  "cells": [
    {
      "cell_type": "markdown",
      "metadata": {
        "id": "view-in-github",
        "colab_type": "text"
      },
      "source": [
        "<a href=\"https://colab.research.google.com/github/Lotfullah21/Deep_Learning_CMU_MIT_Stanford/blob/main/Convolutional_Neural_Net.ipynb\" target=\"_parent\"><img src=\"https://colab.research.google.com/assets/colab-badge.svg\" alt=\"Open In Colab\"/></a>"
      ]
    },
    {
      "cell_type": "markdown",
      "source": [
        "Convolutional Networks are simly neural networks that use convolution in place of general matrix multiplication, in at least of their layers.\n",
        "this is also the family of neural networks, But here we are using another approach to create the models which are invarient to certain transformation of the input to build the invarience properties into the structure of a neural network.\n",
        "### The Convolution Operation:\n",
        "Convolution is an operation on two function of real valued argument\n",
        "\n",
        "![Screenshot 2022-07-14 234509.jpg](data:image/jpeg;base64,/9j/4AAQSkZJRgABAQEAYABgAAD/2wBDAAMCAgMCAgMDAwMEAwMEBQgFBQQEBQoHBwYIDAoMDAsKCwsNDhIQDQ4RDgsLEBYQERMUFRUVDA8XGBYUGBIUFRT/2wBDAQMEBAUEBQkFBQkUDQsNFBQUFBQUFBQUFBQUFBQUFBQUFBQUFBQUFBQUFBQUFBQUFBQUFBQUFBQUFBQUFBQUFBT/wAARCABEAT4DASIAAhEBAxEB/8QAHwAAAQUBAQEBAQEAAAAAAAAAAAECAwQFBgcICQoL/8QAtRAAAgEDAwIEAwUFBAQAAAF9AQIDAAQRBRIhMUEGE1FhByJxFDKBkaEII0KxwRVS0fAkM2JyggkKFhcYGRolJicoKSo0NTY3ODk6Q0RFRkdISUpTVFVWV1hZWmNkZWZnaGlqc3R1dnd4eXqDhIWGh4iJipKTlJWWl5iZmqKjpKWmp6ipqrKztLW2t7i5usLDxMXGx8jJytLT1NXW19jZ2uHi4+Tl5ufo6erx8vP09fb3+Pn6/8QAHwEAAwEBAQEBAQEBAQAAAAAAAAECAwQFBgcICQoL/8QAtREAAgECBAQDBAcFBAQAAQJ3AAECAxEEBSExBhJBUQdhcRMiMoEIFEKRobHBCSMzUvAVYnLRChYkNOEl8RcYGRomJygpKjU2Nzg5OkNERUZHSElKU1RVVldYWVpjZGVmZ2hpanN0dXZ3eHl6goOEhYaHiImKkpOUlZaXmJmaoqOkpaanqKmqsrO0tba3uLm6wsPExcbHyMnK0tPU1dbX2Nna4uPk5ebn6Onq8vP09fb3+Pn6/9oADAMBAAIRAxEAPwD9U6KKKACiiigAooooAKKKKACiiigAooooAKKKKACiioby7hsLSa5uJFighRpJJGOAqgZJP0ApNqKu9hpNuyJqK8N+AHin4h/FBNJ+IF/q1hH4D8QWVzdWuhPaBbq3Vpx9iZJABlWt13PvJO+TjAAA9yqmmt9H27eTJum3b/hwooopDCiiigAooooAKKKKACiiigAooooAKKKKACiiigAooooAKKKKACiiigAooooAKKKKACiiigAoorjvH3xMsPAuo+HNKkEU2s+Irt7LTre4uFt4ndI2kcvIQcAKp+6rMSQApzwAdezrGrMxCqoyWJwAPWq+l6pa61p9vfWM6XVncIJIZ4zlJFPRlPcHqD0I5rxb4meOpvG3g3wXoosL3Rz4w8TLoN7b3UUkMn2aEzy3QUOqsY5Y7SRVYqNySg4Gaq/tVeK/FWkab4N8I+ErY2134o16x06K9tNSa0njjjc3Fwi7UJVTBbyKXB4D9KFrbzko/fbX01X4g9L+Sb+Sv/kz3JdWs31WTTBcx/2hHCtw1tnD+WSVD47jIIz61bryL466nceFtA8IeODEtnqej6zYRXUccm8fZrueO1uYS2BuUear9BloUOOK9ZuJ1tbeWZw7LGpcrGhdiAM8KAST7AZNH2W30bX5P9fzDrZf1/VvxRJRXnX/AAvTRP8AoA+NP/CP1P8A+R66Hwj48sfGjXK2dhrdkbcKW/tfRrqwDZz90zxpu6c4zjj1pgdJXhP7cXjefwH+yz4+u7NympX9kNHs9p+YzXbrbrj3HmE/hXu1fJ/7cU58U+N/2fPhynz/ANv+N4NRuoh/FbWKmaQEenzKfwrOUVUcaUtpNJ+jaT/C5cZOneot4pv5pNr8UfSXgHwxD4J8C+HfD1uoWDSdOt7FAP7scaoP/Qa3qK4D4pfFqH4Y6HrerSaXNqFjoOnNq2qSrIIhFbruOEyP3kpCOQnA+XllyudalTmk5y66mVOnyxUI9NP0O/qpY6tZ6pJdpaXMdw1pMbefyzny5AAShPqAwyO2a8f8XfHrVNM+F/xH8QjwrqWiS6Bo63+nXOoJ+5vWmhZ4lU4Hzo2wSKMhSwG4nOOhm13Q/wBnj4SaQNTkuLkW4t7GKOFRJd6nfzMAFQEjfNNKxYkkDLMxIAJE7Np+X3v+tu7RW6TXW/3K3+f4M9HmlWCJ5HyERSxwCTgewqHTtStdXsLe+sbiK7s7hBLDPC4ZJFIyGBHUEVxHhP4sDX/iJqnge+0S60zX9M0231W5ZJUntUhnd0iTzAQ3mExyZXZgbDhiME8v4R8VL4D+IXxS8NGGa5sLF7HXdPs7cZcfb/MRoEBOBuuYJGGcAGY8gDg/r7nb/P7g/S1/nt+a+89ooryPSv2j9G1Dw3ompyabeCbVvFMnhK3t7UrKJLqOaWKSVHJXdCohkfdgHCnjNR+Nvjhc6R8K/i1r8Oi3Wlaj4Nku7GCO+KMt1KlvFLDMm0n92/nx4zz1yAeKlvRta21/J/8Aty+8qMW5cu3/AA7X5p/ceq2OrWeqSXaWlzHcNaTG3n8s58uQAEoT6gMMjtmrdeCfGTWtW/Z7/Zdvj4cthf6nZ6X9kW8kuvKmN9PiNJ/ukySPcShjyCSxOa9S+F+n6zo/w/0HTtfDnVrGzitZ5pb1ruSdkQKZXlYAszEbjnueprS2slfa3z729NPvRmpXUZd7/Lbf7/wOporGk8aeH4ZHjk13TY5EJVla8jBBHUEZq1puvaZrLONP1G0vjHguLadZNuemcE4qSi/VTUNWs9JFub25jtVuJlt4mlO0NI33Uz6k8D1JA6kVyni74n2vh/xfo3hDT7RtZ8V6tDJdw2CSCNILWMgSXE8mD5cYZlUYVmZmACnBIzPC3izRv2i/htryLp19Y6fJc3uiTLeBFfzoHaKSSJkZshZFba+QcpkAcVN9G0r21+52dvnp6jtqk9On36/lr6HpNVX1Szjv47F7uBb2RS6WzSKJGUdSFzkivHPBPx9t7H4A+DPFXiTzr3XdTMWjpZWaqZ9R1MSNAY4lJAy0kbtkkKqgkkAE1yVnrFvrn7WWt+JfEmmWfh6D4c+Dv9OvmlSSNZL2TzS/nbVJVILU8MBgu2AQQTTspWvor3fTRN/5feha8t7a6aerS/r0Z9NUV5Ho/wC0Na6lqngSCbw3qlra+OZJRoUxMZkaKOFpzNcRFgYUaNQy4Lt8yhgh4r1ym01uK6ewUUUUhhRRRQAUUUUAFFFFABRRRQAUUUUAFePfGD4T3XxQ1yWz8RaBovjrwJJp6xweHtUijT7PqAkYm6M5RpFHllUHl8j5vlOa9hoqXFS3/r+vz1Gm1sfO3iD4Z3Hwl+E/wjMt9LqifD7WLS5vbqR3fFq8c1rMwLEt5cSXRbLHISLnpXZfEz4f+IfEXxV8A+K9IFjd2vh621JFtruZowl1cRxRxXHCncqIJgVGD+8GOpI9TngjuoZIZo1lhkUo8cihlZSMEEHqCKg0nS7XQ9NttPsovJs7aMRQxbi2xBwFBJJwBwPQVbbk231bf3qz/LTz17E2Stborfc21+bPKvj5pk/iHwr4S8D+e19qeta3pqzTFQrNBazx3VzMyrwo2QEccBpEHcV63cwm4t5YhI8JkQr5kZwy5GMg+oqqNDsRrbav9mVtSMAtRcMSWWLdu2LnhQTgnGM4XOdoxfpdGn1bf5L9PxY+t1/X9X/A83/4UzP/ANFC8bf+DKL/AOM10fg/wXJ4Sa5L+Itc13zwoxrFykwjxn7m1FxnPP0FdLRTAK+UdetT4+/4KSeGYf8AWWfgLwRPqB9EuryYwgfUxgn8K+rq+c/2a9PPiT42/H34guN0d94gh8OWbn/njp9usblT6GZ5fxWlD+Kn/KpP8OX85p/IJfw5Lu0vx5vyiz6Mrwr49fD74k/FfSvFPhK1bw/H4Q1AWDWzu8sd06RyiS7glPzL+92LGpC4VWYnccCvdaKOqYzyr4peB/EXxI+C/j7QrkQW2oavp00Om6fE4dLZhF+6VpNo3M0gBPYZAGcbji+M/DM/x08PfCTxno4juP7B1e38Qvpd1IYvOIt5YmiJwdssTy5wwxujKnHUe31Q0vQ7HRWvDY262wu52upljJ2tK2NzhegJIycYySSeSSRb39GvVO/4/oLpb1XykrP/AIHqzyf4Z/DnxpoPxg8b+Ktck0tLbxFc28/+hStKyW8NqsMNp8yA/LI00jOMZJXAGWAsfD3TZfEXxa+Kviu3kMVpOtn4csrkDIdrRJmmkX1CzXTx/wC9Cwr1yaMTRPG24K6lTtYqcH0I5B9xVbR9HstA0y207TraOzsrZBHFDEMKqj/PXvScVJcr2tb9Py087333d+3f/g/nZ+VrenzX4L+A/jbwjp/wYtZLDSry2+Hf2r7TEl+wOp3E1vJF9rjzHhSDIzlX5/evj7o3+kfEb4W6j4q+A/jrw3vil8Ra/Z3czNGSY/tTqTEgJAJVdsUYJAyEBwOlesUU5Xknrq76+v8AS+5BH3Wn2/T/AId/eeK+PtFvfj38L/AOo6GIZbZNY0zXr7TrqQxNPHbv5jW5ODtdZVTIYdY2Bwa9Z8Pw6lDpcY1e4iuNQZnkk8gYjj3MSI1OAWCghQxALbcnGcU7S9DsdFa8NjbrbC7na6mWMna0rY3OF6AkjJxjJJJ5JJv1V97Ld3+bSX6IhRtbyVvuv/mzlp/hX4KuppJpvB+gzTSMXeSTTIGZmJySSV5JNaOheDtA8LvK+jaHpukPMAJGsbSOAuB0B2gZx71sUVO2xW+549q3wx8Q6Z8eNa+IGiJY38mreG7fQovt07R/2fJFPLLvwFO+N/NBKgg7owOjblq/BHw3qv7PnwN+y+MLq0EGgWDSTNZsZBNKN8tzcbioYtLK7EJzgBe5Ir2uqGraHY69Hbx6hbrdRQTpcpHITs8xDlGK9G2nDDOQCAeoBE2fJyJ/8DVv82/XqPRy5n/Vkl+SX9XPnXwv8A9etfBPwJ1KSCGfV/B11caxqGjXEvlh5ryCbzArYI3xST8Z4IDcg4qn4g/Zt8deN/Dvxq0nVdS0qwm8evJOt1ayvIu0W1vFa2zZQMqR+VMHYfe8wEAZKj6loqpWbk0t7/jb/Jf8MEW04u+qt+F/82eD33w18daz8XvBvisW2k6RpOh6PPpVvZLcmWWzeWW2Ms/+r2NmGF41UfdyCT8xC+8UUU76W9fxbf5tkKKjt5fgrBRRRSKCiiigAooooAKKKKACiiigAooooAKKKKACiiigAooooAKKKKAOH+Imk+PLzU9BvPBmt6dY29qbgahpupQZjvd8RWE+aEZk8uTDlVxv6FhVj4R/De0+Evw/0vwza3D3zWweW5vpVCvd3MrtLPOw7F5Hdsds47V2FFC0v5/1/X/AQPWwUUUUAFFFFABRRRQAUUUUAFFFFABRRRQAUUUUAFFFFABRRRQAUUUUAFFFFABRRRQAUUUUAFFFFABRRRQAUUUUAFFFFABRRRQAUUUUAFFFFABRRRQAUUUUAFFFFABRRRQAUUUUAFFFFABRRRQAUUUUAFFFFABRRRQAUUUUAFFFFAH/2Q==).\n",
        "\n",
        "the convolution is defined for any function for which the above integral is defined. Here the X(t) and W(t) are the position of the object at time t and the kernel respectively.\n",
        "the output of the above operation sometimes referred as feature map."
      ],
      "metadata": {
        "id": "8nvQLc0f5Yi-"
      }
    },
    {
      "cell_type": "markdown",
      "source": [
        "Convolution leverages three important ideas that help a machine learning system.\n",
        "1. Sparse interactions\n",
        "2. Parameter Sharing\n",
        "3. Equivarient Representations"
      ],
      "metadata": {
        "id": "Dip87qrR9Orn"
      }
    },
    {
      "cell_type": "code",
      "source": [
        ""
      ],
      "metadata": {
        "id": "oezd4-O76ocJ"
      },
      "execution_count": null,
      "outputs": []
    }
  ]
}