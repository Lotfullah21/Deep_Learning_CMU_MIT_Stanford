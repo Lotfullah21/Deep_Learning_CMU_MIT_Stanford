{
  "nbformat": 4,
  "nbformat_minor": 0,
  "metadata": {
    "colab": {
      "provenance": [],
      "collapsed_sections": [],
      "toc_visible": true,
      "authorship_tag": "ABX9TyO0eKCVy2u4Hsa66wAKseV1",
      "include_colab_link": true
    },
    "kernelspec": {
      "name": "python3",
      "display_name": "Python 3"
    },
    "language_info": {
      "name": "python"
    }
  },
  "cells": [
    {
      "cell_type": "markdown",
      "metadata": {
        "id": "view-in-github",
        "colab_type": "text"
      },
      "source": [
        "<a href=\"https://colab.research.google.com/github/Lotfullah21/Deep_Learning_CMU_MIT_Stanford/blob/main/Deop_out.ipynb\" target=\"_parent\"><img src=\"https://colab.research.google.com/assets/colab-badge.svg\" alt=\"Open In Colab\"/></a>"
      ]
    },
    {
      "cell_type": "code",
      "execution_count": 1,
      "metadata": {
        "id": "-qGqcPH7wgo7"
      },
      "outputs": [],
      "source": [
        "\"\"\" Vanilla Dropout: Not recommended implementation (see notes below) \"\"\"\n",
        "\n",
        "p = 0.5 # probability of keeping a unit active. higher = less dropout\n",
        "\n",
        "def train_step(X):\n",
        "  \"\"\" X contains the data \"\"\"\n",
        "  \n",
        "  # forward pass for example 3-layer neural network\n",
        "  H1 = np.maximum(0, np.dot(W1, X) + b1)\n",
        "  U1 = np.random.rand(*H1.shape) < p # first dropout mask\n",
        "  H1 *= U1 # drop!\n",
        "  H2 = np.maximum(0, np.dot(W2, H1) + b2)\n",
        "  U2 = np.random.rand(*H2.shape) < p # second dropout mask\n",
        "  H2 *= U2 # drop!\n",
        "  out = np.dot(W3, H2) + b3\n",
        "  \n",
        "  # backward pass: compute gradients... (not shown)\n",
        "  # perform parameter update... (not shown)\n",
        "  \n",
        "def predict(X):\n",
        "  # ensembled forward pass\n",
        "  H1 = np.maximum(0, np.dot(W1, X) + b1) * p # NOTE: scale the activations\n",
        "  H2 = np.maximum(0, np.dot(W2, H1) + b2) * p # NOTE: scale the activations\n",
        "  out = np.dot(W3, H2) + b3"
      ]
    },
    {
      "cell_type": "code",
      "source": [],
      "metadata": {
        "id": "arPzVcsDxdYc"
      },
      "execution_count": null,
      "outputs": []
    }
  ]
}